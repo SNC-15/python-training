{
  "nbformat": 4,
  "nbformat_minor": 2,
  "metadata": {
    "colab": {
      "name": "Python_Practice.ipynb",
      "provenance": []
    },
    "kernelspec": {
      "name": "python3",
      "display_name": "Python 3"
    },
    "language_info": {
      "name": "python"
    }
  },
  "cells": [
    {
      "cell_type": "markdown",
      "source": [
        "#**Here's an Assessment for testing your python skills**"
      ],
      "metadata": {
        "id": "3fX9JEhzGF01"
      }
    },
    {
      "cell_type": "markdown",
      "source": [
        "***Q1. Given a number count the total number of digits in a number***"
      ],
      "metadata": {
        "id": "r-_IG3IuGZ73"
      }
    },
    {
      "cell_type": "code",
      "execution_count": null,
      "source": [
        "#example\n",
        "\n",
        "number = 1234567890 # length = 10\n",
        "\n",
        "# now take a number from input as an integer and code\n",
        "\n",
        "\n",
        "\n"
      ],
      "outputs": [],
      "metadata": {
        "id": "V2o8z5TEGVuZ"
      }
    },
    {
      "cell_type": "markdown",
      "source": [
        "***Q2. Display numbers from -10 to -1 using \"for\" loop as well as \"while\" loop***"
      ],
      "metadata": {
        "id": "d55xOoVjGwrs"
      }
    },
    {
      "cell_type": "code",
      "execution_count": null,
      "source": [
        "# write your code here\n"
      ],
      "outputs": [],
      "metadata": {
        "id": "43sWPsCBHGpU"
      }
    },
    {
      "cell_type": "markdown",
      "source": [
        "Q3. Print the following pattern\n",
        "\n",
        "#\n",
        "\n",
        "##\n",
        "\n",
        "###\n",
        "\n",
        "####\n",
        "\n",
        "#####\n",
        "\n",
        "####\n",
        "\n",
        "###\n",
        "\n",
        "##\n",
        "\n",
        "#"
      ],
      "metadata": {
        "id": "ZwS59dm0HHmL"
      }
    },
    {
      "cell_type": "code",
      "execution_count": null,
      "source": [],
      "outputs": [],
      "metadata": {
        "id": "xV133RhzHIC9"
      }
    },
    {
      "cell_type": "markdown",
      "source": [
        "**Q4. Write a function employeeDetails() which accepts ename, salary and display both. If the salary is missing in the function call assign default value 10000 to salary**\n",
        "\n",
        "**Given:**\n",
        "\n",
        "**employeeDetails(\"Joe\", 34000)**\n",
        "\n",
        "**employeeDetails(\"Jennifer\")**\n",
        "\n",
        "**Joe salary is: 34000**\n",
        "\n",
        "**Jennifer salary is: 10000**"
      ],
      "metadata": {
        "id": "x_O2JuUOJOb-"
      }
    },
    {
      "cell_type": "code",
      "execution_count": null,
      "source": [
        "# write your code here\n"
      ],
      "outputs": [],
      "metadata": {
        "id": "n3Z6k2QdJEEF"
      }
    },
    {
      "cell_type": "markdown",
      "source": [
        "***Q5. Arrange string letters such that uppercase letters should come first***\n",
        "\n",
        "***Given:***\n",
        "\n",
        "***my_string = uPPerLower***\n",
        "\n",
        "***Expected Output:***\n",
        "\n",
        "**PPLuerower**"
      ],
      "metadata": {
        "id": "SCkMdrWJJ_-4"
      }
    },
    {
      "cell_type": "code",
      "execution_count": null,
      "source": [
        "# write your code here"
      ],
      "outputs": [],
      "metadata": {
        "id": "FqjbW5NyJRqC"
      }
    },
    {
      "cell_type": "markdown",
      "source": [
        "***Q6. Find all occurrences of “UAE” in a given string ignoring the case***\n",
        "\n",
        "***str1 = \"Welcome to UAE. uae is awesome, isn't it?\"***\n",
        "\n",
        "***The UAE count is: 2***"
      ],
      "metadata": {
        "id": "p4BBh6onKpIc"
      }
    },
    {
      "cell_type": "code",
      "execution_count": null,
      "source": [
        "# write your code here"
      ],
      "outputs": [],
      "metadata": {
        "id": "5bwDqIz9LAY_"
      }
    },
    {
      "cell_type": "markdown",
      "source": [
        "***Q7. Write a function to remove all the integers other than characters from a string***\n",
        "\n",
        "***Given:***\n",
        "\n",
        "***str1 = \"Amy2021 is neuro scientist170 and a good10 cook\"***\n",
        "\n",
        "***Expected Output:***\n",
        "\n",
        "***Amy is neuro scientist and a good cook***"
      ],
      "metadata": {
        "id": "NR1UGuhzLClv"
      }
    },
    {
      "cell_type": "code",
      "execution_count": null,
      "source": [
        "# write your code here"
      ],
      "outputs": [],
      "metadata": {
        "id": "m7266NGqLoAP"
      }
    },
    {
      "cell_type": "markdown",
      "source": [
        "***Q8. Reverse a given list in Python***\n",
        "\n",
        "***my_list = [100, 200, 300, 400, 500]***\n",
        "\n",
        "***Output:***\n",
        "\n",
        "***[500, 400, 300, 200, 100]***"
      ],
      "metadata": {
        "id": "iURHrOERMOzi"
      }
    },
    {
      "cell_type": "code",
      "execution_count": null,
      "source": [
        "# write your code here"
      ],
      "outputs": [],
      "metadata": {
        "id": "U2ON3AL6MheF"
      }
    },
    {
      "cell_type": "markdown",
      "source": [
        "***Q9. Given a list, remove all occurrence of 200 from the list***\n",
        "\n",
        "***list1 = [50, 200, 150, 200, 250, 50, 200]***"
      ],
      "metadata": {
        "id": "W3DJF5uQMjjS"
      }
    },
    {
      "cell_type": "code",
      "execution_count": null,
      "source": [
        "# write your code here"
      ],
      "outputs": [],
      "metadata": {
        "id": "nZA_Q2R8M-Vw"
      }
    },
    {
      "cell_type": "markdown",
      "source": [
        "***Q10. Below are the two lists convert it into the dictionary***\n",
        "\n",
        "***keys = ['Twelve', 'Thirteen', 'Fourteen']***\n",
        "***values = [12, 13, 14]***\n",
        "\n",
        "***Expected output:***\n",
        "\n",
        "***{'Twelve': 12, 'Thirteen': 13, 'Fourteen': 14}***"
      ],
      "metadata": {
        "id": "u7YM4KZpNAyn"
      }
    },
    {
      "cell_type": "code",
      "execution_count": null,
      "source": [
        "# write your code here"
      ],
      "outputs": [],
      "metadata": {
        "id": "WqXK8JauOvE9"
      }
    },
    {
      "cell_type": "markdown",
      "source": [
        "***Q11. Delete list of keys from a dictionary***\n",
        "\n",
        "***Given:***\n",
        "\n",
        "***sampleDict = {***\n",
        "  **\"name\": \"Humpty\",**\n",
        "  **\"age\":25,**\n",
        "  **\"salary\": 8000,**\n",
        "  **\"city\": \"New york\" }**\n",
        "\n",
        "***keysToRemove = [\"name\", \"salary\"]***\n",
        "\n",
        "***Output:***\n",
        "\n",
        "***{'city': 'New york', 'age': 25}***"
      ],
      "metadata": {
        "id": "zSu_t7uNOhAK"
      }
    },
    {
      "cell_type": "code",
      "execution_count": null,
      "source": [
        "# write your code here"
      ],
      "outputs": [],
      "metadata": {
        "id": "ffa9DLKqQ1GN"
      }
    },
    {
      "cell_type": "markdown",
      "source": [
        "***Q12. Swap the following two tuples***\n",
        "\n",
        "***tuple1 = (11, 22)***\n",
        "***tuple2 = (99, 88)***\n",
        "\n",
        "***Expected output:***\n",
        "\n",
        "***tuple1 = (99, 88)***\n",
        "***tuple2 = (11, 22)***"
      ],
      "metadata": {
        "id": "lqRqbbwsQ3mN"
      }
    },
    {
      "cell_type": "code",
      "execution_count": null,
      "source": [
        "# write your code here"
      ],
      "outputs": [],
      "metadata": {
        "id": "YomC-i5YRp3_"
      }
    },
    {
      "cell_type": "markdown",
      "source": [
        "**Q13. Create a Human class with height and weight instance attributes and methods that would print an introduction statement, return height and weight separately**"
      ],
      "metadata": {
        "id": "_z-o0gQ3RsvL"
      }
    },
    {
      "cell_type": "markdown",
      "source": [],
      "metadata": {}
    },
    {
      "cell_type": "code",
      "execution_count": null,
      "source": [
        "# write your code here"
      ],
      "outputs": [],
      "metadata": {
        "id": "mVycN-PuTPw-"
      }
    },
    {
      "cell_type": "markdown",
      "source": [
        "***Q14. Create a male class Bus that will inherit all of the variables and methods of the Human class***"
      ],
      "metadata": {
        "id": "NEz55UPGTRlo"
      }
    },
    {
      "cell_type": "code",
      "execution_count": null,
      "source": [
        "# write your code here"
      ],
      "outputs": [],
      "metadata": {
        "id": "g-FKhWysUIpU"
      }
    }
  ]
}